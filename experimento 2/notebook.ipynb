{
 "cells": [
  {
   "cell_type": "code",
   "execution_count": 1,
   "metadata": {},
   "outputs": [],
   "source": [
    "import matplotlib.pyplot as plt\n",
    "plt.style.use('seaborn-v0_8-whitegrid')\n",
    "import numpy as np\n",
    "from scipy.stats import linregress"
   ]
  },
  {
   "cell_type": "code",
   "execution_count": 3,
   "metadata": {},
   "outputs": [],
   "source": [
    "# # Régua\n",
    "# mV = [\n",
    "#     [80.51, 9.2],\n",
    "#     [85.56, 9.2],\n",
    "#     [96.97, 10.9],\n",
    "#     [109.87, 12.5],\n",
    "#     [118.59, 14.1],\n",
    "#     ]\n",
    "\n",
    "# m = np.array([ mV[0][0], mV[1][0], mV[2][0], mV[3][0], mV[4][0]  ])\n",
    "# V = np.array([ mV[0][1], mV[1][1], mV[2][1], mV[3][1], mV[4][1] ])\n",
    "# m_error = np.array([ 0.01, 0.01, 0.01, 0.01, 0.01 ])\n",
    "# V_error = np.array([ 0.5, 0.4, 0.5, 0.4, 0.4 ])\n",
    "\n",
    "# x = V\n",
    "# y = m\n",
    "# x_error = V_error\n",
    "# y_error = m_error\n",
    "\n",
    "# plt.errorbar(x, y, xerr=x_error, color=\"red\", label=\"Curva com barra de erros\")\n",
    "# plt.scatter(x, y, color=\"blue\", label=\"Pontos\")\n",
    "\n",
    "# linear_model = np.polyfit(x, y, 1)\n",
    "# linear_model_fn = np.poly1d(linear_model)\n",
    "# x_s = np.arange(8, 16)\n",
    "# plt.plot(x_s, linear_model_fn(x_s), color=\"green\", label=\"Regressão linear\")\n",
    "\n",
    "# print(linregress(x, y))\n",
    "\n",
    "# plt.xlabel(\"V (cm³)\")\n",
    "# plt.ylabel(\"m (g)\")\n",
    "# plt.title(\"m x V\")\n",
    "# plt.legend()\n",
    "# plt.show()"
   ]
  },
  {
   "cell_type": "code",
   "execution_count": 27,
   "metadata": {},
   "outputs": [
    {
     "data": {
      "image/png": "[encoded data removed]",
      "text/plain": [
       "<Figure size 432x288 with 1 Axes>"
      ]
     },
     "metadata": {
      "needs_background": "light"
     },
     "output_type": "display_data"
    }
   ],
   "source": [
    "# m2 - d x tm\n",
    "d = np.array([0, 0.100, 0.200, 0.300, 0.400, 0.500])\n",
    "tm = np.array([0, 0.555, 0.786, 0.959, 1.106, 1.273])\n",
    "\n",
    "plt.scatter(tm, d, color=\"blue\")\n",
    "\n",
    "plt.title(\"d x tm\")\n",
    "plt.show()\n"
   ]
  },
  {
   "cell_type": "code",
   "execution_count": 44,
   "metadata": {},
   "outputs": [
    {
     "data": {
      "image/png": "[encoded data removed]",
      "text/plain": [
       "<Figure size 432x288 with 1 Axes>"
      ]
     },
     "metadata": {
      "needs_background": "light"
     },
     "output_type": "display_data"
    },
    {
     "name": "stdout",
     "output_type": "stream",
     "text": [
      "0.318625\n"
     ]
    }
   ],
   "source": [
    "# m2 - d x tm²\n",
    "d = np.array([0, 0.100, 0.200, 0.300, 0.400, 0.500])\n",
    "tm2 = np.array([0, 0.308, 0.618, 0.920, 1.223, 1.621])\n",
    "\n",
    "plt.scatter(tm2, d, color=\"blue\")\n",
    "\n",
    "x = 1.6\n",
    "d = np.array([0, 0.308*x+0.017])\n",
    "tm2 = np.array([0, x])\n",
    "\n",
    "plt.plot(tm2, d, 'r--')\n",
    "\n",
    "plt.title(\"d x tm²\")\n",
    "plt.show()\n",
    "\n",
    "coefAngular = (d[1]-d[0])/(tm2[1]-tm2[0])\n",
    "print(coefAngular)"
   ]
  },
  {
   "cell_type": "code",
   "execution_count": null,
   "metadata": {},
   "outputs": [],
   "source": []
  }
 ],
 "metadata": {
  "kernelspec": {
   "display_name": "Python 3.8.10 64-bit",
   "language": "python",
   "name": "python3"
  },
  "language_info": {
   "codemirror_mode": {
    "name": "ipython",
    "version": 3
   },
   "file_extension": ".py",
   "mimetype": "text/x-python",
   "name": "python",
   "nbconvert_exporter": "python",
   "pygments_lexer": "ipython3",
   "version": "3.8.10"
  },
  "orig_nbformat": 4,
  "vscode": {
   "interpreter": {
    "hash": "916dbcbb3f70747c44a77c7bcd40155683ae19c65e1c03b4aa3499c5328201f1"
   }
  }
 },
 "nbformat": 4,
 "nbformat_minor": 2
}
